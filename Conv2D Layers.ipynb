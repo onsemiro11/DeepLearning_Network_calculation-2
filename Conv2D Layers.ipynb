{
 "cells": [
  {
   "cell_type": "markdown",
   "id": "ad46ced0-50b3-4670-a74f-6a1bcb8eee3f",
   "metadata": {},
   "source": [
    "# Conv2D Layers"
   ]
  },
  {
   "cell_type": "markdown",
   "id": "f25e0c01-b8a4-474d-94c3-d83c38f5e80c",
   "metadata": {},
   "source": [
    "convolution 연산이 어떻게 진행되고 weight와 bias 그리고 window shape들이 어떻게 형성되는지 확인해보자.\n",
    "\n",
    "conv layer에서 사용되는 correlation 연산을 numpy를 활용하여 구현해보고\n",
    "\n",
    "tensorflow에 있는 conv2D의 결과값과 같은지 확인해보자."
   ]
  },
  {
   "cell_type": "markdown",
   "id": "105f171a-3099-461e-bb3b-d8adeb412038",
   "metadata": {},
   "source": [
    "## Shapes of Conv Layers"
   ]
  },
  {
   "cell_type": "code",
   "execution_count": 8,
   "id": "3e6ea930-340a-4276-a917-07ed044405cd",
   "metadata": {},
   "outputs": [
    {
     "name": "stdout",
     "output_type": "stream",
     "text": [
      "(1, 28, 28, 3)\n",
      "(3, 3, 3, 1)\n",
      "(1,)\n",
      "(1, 26, 26, 1)\n"
     ]
    }
   ],
   "source": [
    "import tensorflow as tf\n",
    "\n",
    "from tensorflow.keras.layers import Conv2D\n",
    "\n",
    "N, n_H, n_W, n_C = 1, 28,28,3 # C 수를 바꿔주면 어떻게 shape값이 바뀌는 지 확인해보자\n",
    "n_filter = 1 # filter값이 바뀌면 어느 shape부분이 바뀌는 지 확인해보자.\n",
    "f_size = 3 # filter size를 바꾸면 어디가 바뀌는지 확인해보자.\n",
    "\n",
    "images = tf.random.uniform(minval=0,maxval=1,shape=((N,n_H,n_W,n_C)))\n",
    "\n",
    "conv = Conv2D(filters=n_filter, kernel_size = k_size)\n",
    "\n",
    "y = conv(images)\n",
    "\n",
    "W,B = conv.get_weights()\n",
    "\n",
    "print(images.shape)\n",
    "print(W.shape)\n",
    "print(B.shape)\n",
    "print(y.shape)"
   ]
  },
  {
   "cell_type": "markdown",
   "id": "cb6c23dd-b5f8-42ce-87fa-94e6e7646bd1",
   "metadata": {},
   "source": [
    "## Correlation Calculation"
   ]
  },
  {
   "cell_type": "code",
   "execution_count": 24,
   "id": "c79d8362-d70a-4b79-aca1-4a247b563d9e",
   "metadata": {},
   "outputs": [
    {
     "name": "stdout",
     "output_type": "stream",
     "text": [
      "Y(tensorflow): \n",
      " [[ 0.6153333   0.6170325   0.4753493 ]\n",
      " [ 0.42878878  0.26073298  0.13926238]\n",
      " [-0.1030992  -0.12954181  0.3983576 ]]\n",
      "Y(Manual): \n",
      " [[ 0.61533332  0.61703265  0.47534931]\n",
      " [ 0.42878878  0.26073298  0.13926229]\n",
      " [-0.10309925 -0.12954181  0.39835763]]\n"
     ]
    }
   ],
   "source": [
    "import numpy as np\n",
    "import tensorflow as tf\n",
    "\n",
    "from tensorflow.keras.layers import Conv2D\n",
    "\n",
    "N, n_H, n_W,n_C = 1, 5,5,1\n",
    "n_filter = 1\n",
    "k_size = 3 #window 크기\n",
    "\n",
    "images = tf.random.uniform(minval=0,maxval=1,\n",
    "                          shape= ((N,n_H,n_W,n_C))) \n",
    "\n",
    "conv = Conv2D(filters=n_filter, kernel_size = k_size)\n",
    "\n",
    "y = conv(images)\n",
    "print(\"Y(tensorflow): \\n\",y.numpy().squeeze()) #squeeze함수를 사용하면 y shape가 최소한의 차원으로 바뀐다.\n",
    "W,B=conv.get_weights()\n",
    "\n",
    "#####\n",
    "images = images.numpy().squeeze()\n",
    "W = W.squeeze()\n",
    "\n",
    "# print(images.shape)\n",
    "# print(W.shape)\n",
    "# print(B.shape)\n",
    "\n",
    "y_man = np.zeros(shape = (n_H - k_size + 1 ,n_W - k_size + 1))\n",
    "\n",
    "for i in range(n_H -k_size+1):\n",
    "    for j in range(n_W -k_size+ 1): #window의 초기 인덱스를 잡아주는 것이 i,j이다.\n",
    "        window = images[i:i+k_size,j:j+k_size] \n",
    "        y_man[i,j] = np.sum(window*W)+B #이 부분에서 conv 연산이 진행되는 것과 동일한 과정을 갖는다.\n",
    "        \n",
    "        #print(window.shape)\n",
    "print(\"Y(Manual): \\n\",y_man)"
   ]
  },
  {
   "cell_type": "markdown",
   "id": "dd9956c9-37b9-43c9-89cf-aa121f218977",
   "metadata": {},
   "source": [
    "## Correlation with n-channel"
   ]
  },
  {
   "cell_type": "code",
   "execution_count": 25,
   "id": "ea42fef1-bf06-4fe8-8e70-8684d36fd1a8",
   "metadata": {},
   "outputs": [
    {
     "name": "stdout",
     "output_type": "stream",
     "text": [
      "Y(tensorflow): \n",
      " [[0.7962659  0.2248787  1.3366759 ]\n",
      " [0.95532846 0.98810637 0.5097714 ]\n",
      " [0.5575899  0.56069964 0.7777792 ]]\n",
      "Y(Manual): \n",
      " [[0.79626608 0.22487867 1.33667576]\n",
      " [0.95532858 0.98810637 0.50977135]\n",
      " [0.55758977 0.56069964 0.77777922]]\n"
     ]
    }
   ],
   "source": [
    "import numpy as np\n",
    "import tensorflow as tf\n",
    "\n",
    "from tensorflow.keras.layers import Conv2D\n",
    "\n",
    "N, n_H, n_W,n_C = 1, 5,5,3\n",
    "n_filter = 1\n",
    "k_size = 3 #window 크기\n",
    "\n",
    "images = tf.random.uniform(minval=0,maxval=1,\n",
    "                          shape= ((N,n_H,n_W,n_C))) \n",
    "\n",
    "conv = Conv2D(filters=n_filter, kernel_size = k_size)\n",
    "\n",
    "y = conv(images)\n",
    "print(\"Y(tensorflow): \\n\",y.numpy().squeeze()) #squeeze함수를 사용하면 y shape가 최소한의 차원으로 바뀐다.\n",
    "W,B=conv.get_weights()\n",
    "\n",
    "#####\n",
    "images = images.numpy().squeeze()\n",
    "W = W.squeeze()\n",
    "\n",
    "y_man = np.zeros(shape = (n_H - k_size + 1 ,n_W - k_size + 1))\n",
    "\n",
    "for i in range(n_H -k_size+1):\n",
    "    for j in range(n_W -k_size+ 1): #window의 초기 인덱스를 잡아주는 것이 i,j이다.\n",
    "        window = images[i:i+k_size,j:j+k_size,:] \n",
    "        y_man[i,j] = np.sum(window*W)+B #이 부분에서 conv 연산이 진행되는 것과 동일한 과정을 갖는다.\n",
    "        \n",
    "        #print(window.shape)\n",
    "print(\"Y(Manual): \\n\",y_man)\n",
    "\n",
    "#tensorflow의 Conv2D연산을 직접 numpy를 활용하여 구현하여 conv연산이 어떻게 진행되는지와 구조를 코드로 확인 가능하였다."
   ]
  },
  {
   "cell_type": "code",
   "execution_count": null,
   "id": "3e44d8c1-81d6-4183-b53d-2fcd1da91ad5",
   "metadata": {},
   "outputs": [],
   "source": []
  }
 ],
 "metadata": {
  "kernelspec": {
   "display_name": "Python 3.9 (tensorflow)",
   "language": "python",
   "name": "tensorflow"
  },
  "language_info": {
   "codemirror_mode": {
    "name": "ipython",
    "version": 3
   },
   "file_extension": ".py",
   "mimetype": "text/x-python",
   "name": "python",
   "nbconvert_exporter": "python",
   "pygments_lexer": "ipython3",
   "version": "3.9.9"
  }
 },
 "nbformat": 4,
 "nbformat_minor": 5
}
