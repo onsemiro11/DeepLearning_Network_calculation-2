{
 "cells": [
  {
   "cell_type": "markdown",
   "id": "ba5034d9",
   "metadata": {},
   "source": [
    "# 4-2: Mean Squared Error"
   ]
  },
  {
   "cell_type": "markdown",
   "id": "a595cad0",
   "metadata": {},
   "source": [
    "Code.4-2-1: MSE Calculation"
   ]
  },
  {
   "cell_type": "code",
   "execution_count": 12,
   "id": "7c83060c",
   "metadata": {},
   "outputs": [
    {
     "name": "stdout",
     "output_type": "stream",
     "text": [
      "(32, 1) (32, 1)\n",
      "MSE(Tensorflow): 1.6314158\n",
      "MSE(Manual): 1.6314155\n"
     ]
    }
   ],
   "source": [
    "import tensorflow as tf\n",
    "\n",
    "from tensorflow.keras.losses import MeanSquaredError\n",
    "\n",
    "loss_object = MeanSquaredError()\n",
    "\n",
    "batch_size = 32\n",
    "predictions = tf.random.normal(shape=(batch_size,1)) #마지막 layer에는 하나의 결괏값이 나와야하기때문에, 하나의 neuron이 필요하다.(하나의 결괏값이 나와야하는 이유는 실제 y값과 비교를 해야하기 때문.)\n",
    "labels = tf.random.normal(shape=(batch_size,1))\n",
    "\n",
    "print(predictions.shape,labels.shape)\n",
    "\n",
    "mse = loss_object(labels, predictions)\n",
    "mse_menual = tf.reduce_mean(tf.math.pow(labels -predictions, 2)) #tf.math.pow는 (a,b)일때, 'a의 b제곱'의 연산을 진행하는 메소드다.\n",
    "#menual을 통해 확일할 수 있듯이, mse는 모델 결괏값(hat y)과 실제값(y)와의 오차를 제곱하여 평균을 낸 것이다.\n",
    "\n",
    "print(\"MSE(Tensorflow):\", mse.numpy())\n",
    "print(\"MSE(Manual):\",mse_menual.numpy())"
   ]
  },
  {
   "cell_type": "markdown",
   "id": "8b56b5f6",
   "metadata": {},
   "source": [
    "Code.4-2-2: MSE with Model/Dataset"
   ]
  },
  {
   "cell_type": "code",
   "execution_count": 23,
   "id": "6741a9a7",
   "metadata": {},
   "outputs": [
    {
     "name": "stdout",
     "output_type": "stream",
     "text": [
      "(100, 5) (100, 1)\n",
      "<TensorSliceDataset shapes: ((5,), (1,)), types: (tf.float32, tf.float32)>\n",
      "<BatchDataset shapes: ((None, 5), (None, 1)), types: (tf.float32, tf.float32)>\n",
      "3.827517\n",
      "1.934537\n",
      "3.167913\n",
      "3.4209118\n"
     ]
    }
   ],
   "source": [
    "import tensorflow as tf\n",
    "\n",
    "from tensorflow.keras.layers import Dense\n",
    "from tensorflow.keras.losses import MeanSquaredError\n",
    "\n",
    "N,n_feature = 100, 5\n",
    "batch_size = 32\n",
    "\n",
    "X = tf.random.normal(shape=(N, n_feature))\n",
    "Y = tf.random.normal(shape=(N,1))\n",
    "print(X.shape,Y.shape)\n",
    "dataset = tf.data.Dataset.from_tensor_slices((X,Y)) #dataset을 나눠주는 과정이다.\n",
    "print(dataset)\n",
    "dataset = dataset.batch(batch_size)\n",
    "print(dataset)\n",
    "model = Dense(units=1, activation=\"linear\")\n",
    "loss_object = MeanSquaredError()\n",
    "\n",
    "for x,y in dataset:\n",
    "    predictions = model(x)\n",
    "    loss = loss_object(y,predictions)\n",
    "    print(loss.numpy())"
   ]
  },
  {
   "cell_type": "markdown",
   "id": "eabd6e9c",
   "metadata": {},
   "source": [
    "# 4-3: Binary Cross Entropy"
   ]
  },
  {
   "cell_type": "markdown",
   "id": "94b943d8",
   "metadata": {},
   "source": [
    "Code.4-3-1: BCE Calculation"
   ]
  },
  {
   "cell_type": "code",
   "execution_count": 27,
   "id": "c715ccd8",
   "metadata": {},
   "outputs": [
    {
     "name": "stdout",
     "output_type": "stream",
     "text": [
      "BCE(Tensorflow):  1.0237963\n",
      "BCE(Menual):  1.0237969\n"
     ]
    }
   ],
   "source": [
    "import tensorflow as tf\n",
    "\n",
    "from tensorflow.keras.losses import BinaryCrossentropy\n",
    "\n",
    "batch_size = 4\n",
    "n_class = 2\n",
    "\n",
    "predictions = tf.random.uniform(shape=(batch_size,1),\n",
    "                               minval=0,maxval=1,\n",
    "                               dtype=tf.float32)\n",
    "labels = tf.random.uniform(shape=(batch_size,1),\n",
    "                          minval=0,maxval=n_class,\n",
    "                          dtype=tf.int32)\n",
    "\n",
    "loss_object = BinaryCrossentropy()\n",
    "loss = loss_object(labels, predictions) #실제값, 예측값순으로 넣어준다. 여기서는 labels는 0 또는 1/ predictions에서는 확률이 들어가야한다.\n",
    "\n",
    "#print(labels * predictions) 실행을 하면 에러가 나온다. 이유는 labels와 predictions의 형태가 다르기 때문이다.\n",
    "labels = tf.cast(labels,tf.float32) #labels를 float형태로 바꿔준다.\n",
    "bce_man = -(labels*tf.math.log(predictions)+(1-labels)*tf.math.log(1-predictions))\n",
    "bce_man = tf.reduce_mean(bce_man)\n",
    "\n",
    "print(\"BCE(Tensorflow): \",loss.numpy())\n",
    "print(\"BCE(Menual): \",bce_man.numpy())"
   ]
  },
  {
   "cell_type": "markdown",
   "id": "9b337baa",
   "metadata": {},
   "source": [
    "Code.4-3-2: BCE with Model/Dataset"
   ]
  },
  {
   "cell_type": "code",
   "execution_count": 36,
   "id": "020f63bb",
   "metadata": {},
   "outputs": [
    {
     "name": "stdout",
     "output_type": "stream",
     "text": [
      "0.5595261\n",
      "0.88329184\n",
      "0.82264423\n",
      "0.43675736\n"
     ]
    }
   ],
   "source": [
    "import tensorflow as tf\n",
    "\n",
    "from tensorflow.keras.layers import Dense\n",
    "from tensorflow.keras.losses import BinaryCrossentropy\n",
    "\n",
    "N, n_feature = 100, 5\n",
    "batch_size = 32\n",
    "t_weights = tf.constant([1,2,3,4,5],dtype=tf.float32)\n",
    "t_bias = tf.constant([10],dtype=tf.float32)\n",
    "\n",
    "X = tf.random.normal(mean=0, stddev=1, shape=(N, n_feature))\n",
    "Y = tf.reduce_sum(t_weights * X, axis = 1) + t_bias\n",
    "Y = tf.cast(Y>5,tf.int32)\n",
    "#여기까지는 dataset을 구성한 것.\n",
    "\n",
    "dataset = tf.data.Dataset.from_tensor_slices((X,Y))\n",
    "dataset = dataset.batch(batch_size)\n",
    "\n",
    "model = Dense(units =1, activation =\"sigmoid\")\n",
    "loss_object = BinaryCrossentropy()\n",
    "\n",
    "for x,y in dataset:\n",
    "    predictions = model(x)\n",
    "    loss = loss_object(y,predictions)\n",
    "    print(loss.numpy())"
   ]
  },
  {
   "cell_type": "code",
   "execution_count": null,
   "id": "8969a813",
   "metadata": {},
   "outputs": [],
   "source": []
  }
 ],
 "metadata": {
  "kernelspec": {
   "display_name": "Python 3.9 (tensorflow)",
   "language": "python",
   "name": "tensorflow"
  },
  "language_info": {
   "codemirror_mode": {
    "name": "ipython",
    "version": 3
   },
   "file_extension": ".py",
   "mimetype": "text/x-python",
   "name": "python",
   "nbconvert_exporter": "python",
   "pygments_lexer": "ipython3",
   "version": "3.9.9"
  }
 },
 "nbformat": 4,
 "nbformat_minor": 5
}
